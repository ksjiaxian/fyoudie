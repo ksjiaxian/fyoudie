{
 "cells": [
  {
   "cell_type": "code",
   "execution_count": 23,
   "metadata": {},
   "outputs": [
    {
     "name": "stderr",
     "output_type": "stream",
     "text": [
      "[nltk_data] Error loading punkt: <urlopen error [SSL:\n",
      "[nltk_data]     CERTIFICATE_VERIFY_FAILED] certificate verify failed:\n",
      "[nltk_data]     unable to get local issuer certificate (_ssl.c:997)>\n",
      "[nltk_data] Error loading stopwords: <urlopen error [SSL:\n",
      "[nltk_data]     CERTIFICATE_VERIFY_FAILED] certificate verify failed:\n",
      "[nltk_data]     unable to get local issuer certificate (_ssl.c:997)>\n",
      "[nltk_data] Error loading wordnet: <urlopen error [SSL:\n",
      "[nltk_data]     CERTIFICATE_VERIFY_FAILED] certificate verify failed:\n",
      "[nltk_data]     unable to get local issuer certificate (_ssl.c:997)>\n"
     ]
    }
   ],
   "source": [
    "import pandas as pd\n",
    "import numpy as np\n",
    "import math\n",
    "from statistics import mean\n",
    "import pickle\n",
    "from scipy import sparse\n",
    "import pandas as pd\n",
    "import nltk\n",
    "nltk.download('punkt')\n",
    "nltk.download('stopwords')\n",
    "nltk.download('wordnet')\n",
    "import re"
   ]
  },
  {
   "cell_type": "code",
   "execution_count": 24,
   "metadata": {},
   "outputs": [
    {
     "name": "stdout",
     "output_type": "stream",
     "text": [
      "/Users/kennethshinn/Documents/fyoudie/python_workbooks\n"
     ]
    }
   ],
   "source": [
    "# double check the path on harddrive\n",
    "import pathlib\n",
    "print(pathlib.Path().resolve())"
   ]
  },
  {
   "cell_type": "code",
   "execution_count": 25,
   "metadata": {},
   "outputs": [
    {
     "name": "stderr",
     "output_type": "stream",
     "text": [
      "/var/folders/kk/pr3cm19s0pnf27_x6wbg037m0000gn/T/ipykernel_11173/1483079133.py:2: DeprecationWarning: Please use `csr_matrix` from the `scipy.sparse` namespace, the `scipy.sparse.csr` namespace is deprecated.\n",
      "  mask_dict = pickle.load(f)\n"
     ]
    }
   ],
   "source": [
    "with open(\"../pickles/very_big_masks.pkl\",\"rb\") as f:\n",
    "    mask_dict = pickle.load(f)\n",
    "\n"
   ]
  },
  {
   "cell_type": "code",
   "execution_count": 26,
   "metadata": {},
   "outputs": [
    {
     "data": {
      "text/plain": [
       "array([<1x951914 sparse matrix of type '<class 'numpy.float64'>'\n",
       "       \twith 9 stored elements in Compressed Sparse Row format> ,\n",
       "       <1x951914 sparse matrix of type '<class 'numpy.float64'>'\n",
       "       \twith 9 stored elements in Compressed Sparse Row format> ,\n",
       "       <1x951914 sparse matrix of type '<class 'numpy.float64'>'\n",
       "       \twith 9 stored elements in Compressed Sparse Row format> ,\n",
       "       <1x951914 sparse matrix of type '<class 'numpy.float64'>'\n",
       "       \twith 8 stored elements in Compressed Sparse Row format> ,\n",
       "       <1x951914 sparse matrix of type '<class 'numpy.float64'>'\n",
       "       \twith 3 stored elements in Compressed Sparse Row format> ,\n",
       "       <1x951914 sparse matrix of type '<class 'numpy.float64'>'\n",
       "       \twith 1 stored elements in Compressed Sparse Row format> ,\n",
       "       <1x951914 sparse matrix of type '<class 'numpy.float64'>'\n",
       "       \twith 14 stored elements in Compressed Sparse Row format>,\n",
       "       <1x951914 sparse matrix of type '<class 'numpy.float64'>'\n",
       "       \twith 6 stored elements in Compressed Sparse Row format> ],\n",
       "      dtype=object)"
      ]
     },
     "execution_count": 26,
     "metadata": {},
     "output_type": "execute_result"
    }
   ],
   "source": [
    "mask_dict"
   ]
  },
  {
   "cell_type": "code",
   "execution_count": 27,
   "metadata": {},
   "outputs": [],
   "source": [
    "# # need to process this to be able to use it\n",
    "# mask_vectors = list(mask_dict.values())\n",
    "mask_vectors = [i.todense() for i in mask_dict]\n",
    "mask_matrix = np.stack(mask_vectors)"
   ]
  },
  {
   "cell_type": "code",
   "execution_count": 28,
   "metadata": {},
   "outputs": [],
   "source": [
    "feature_reweights = 1/mask_matrix.sum(axis=1)"
   ]
  },
  {
   "cell_type": "code",
   "execution_count": 29,
   "metadata": {},
   "outputs": [],
   "source": [
    "with open('../pickles/feature_weight_corrections.pkl', 'wb') as handle:\n",
    "    pickle.dump(feature_reweights, handle, protocol=pickle.HIGHEST_PROTOCOL)"
   ]
  }
 ],
 "metadata": {
  "kernelspec": {
   "display_name": "Python 3 (ipykernel)",
   "language": "python",
   "name": "python3"
  },
  "language_info": {
   "codemirror_mode": {
    "name": "ipython",
    "version": 3
   },
   "file_extension": ".py",
   "mimetype": "text/x-python",
   "name": "python",
   "nbconvert_exporter": "python",
   "pygments_lexer": "ipython3",
   "version": "3.10.2"
  }
 },
 "nbformat": 4,
 "nbformat_minor": 4
}
