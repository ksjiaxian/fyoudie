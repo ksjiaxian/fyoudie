{
 "cells": [
  {
   "cell_type": "code",
   "execution_count": 1,
   "metadata": {},
   "outputs": [
    {
     "name": "stderr",
     "output_type": "stream",
     "text": [
      "[nltk_data] Downloading package punkt to\n",
      "[nltk_data]     C:\\Users\\david\\AppData\\Roaming\\nltk_data...\n",
      "[nltk_data]   Package punkt is already up-to-date!\n",
      "[nltk_data] Downloading package stopwords to\n",
      "[nltk_data]     C:\\Users\\david\\AppData\\Roaming\\nltk_data...\n",
      "[nltk_data]   Package stopwords is already up-to-date!\n",
      "[nltk_data] Downloading package wordnet to\n",
      "[nltk_data]     C:\\Users\\david\\AppData\\Roaming\\nltk_data...\n",
      "[nltk_data]   Package wordnet is already up-to-date!\n"
     ]
    }
   ],
   "source": [
    "import pandas as pd\n",
    "import nltk\n",
    "nltk.download('punkt')\n",
    "nltk.download('stopwords')\n",
    "nltk.download('wordnet')\n",
    "import re"
   ]
  },
  {
   "cell_type": "code",
   "execution_count": 2,
   "metadata": {},
   "outputs": [],
   "source": [
    "import json\n",
    "\n",
    "# import restaurant data from files\n",
    "\n",
    "business_file_path = \"../yelp_dataset/yelp_academic_dataset_business.json\"\n",
    "\n",
    "business_info_dict = {}\n",
    "with open(business_file_path, 'rb') as business_data:\n",
    "    for b in business_data:\n",
    "        b_dict = json.loads(b)\n",
    "\n",
    "        bid = b_dict['business_id']\n",
    "        category = b_dict[\"categories\"]\n",
    "        if (category is not None and \"Restaurants\" in category):\n",
    "            business_info_dict[bid] = b_dict\n",
    "\n",
    "business_info_df = pd.DataFrame(business_info_dict.values())"
   ]
  },
  {
   "cell_type": "code",
   "execution_count": 17,
   "metadata": {},
   "outputs": [],
   "source": [
    "rid_dict = pd.read_pickle(\"../script_data/new_to_old_restaurant_ids.pkl\")"
   ]
  },
  {
   "cell_type": "code",
   "execution_count": 18,
   "metadata": {},
   "outputs": [],
   "source": [
    "rid_dict = {v:k for k,v in rid_dict.items()}"
   ]
  },
  {
   "cell_type": "code",
   "execution_count": 16,
   "metadata": {},
   "outputs": [
    {
     "name": "stdout",
     "output_type": "stream",
     "text": [
      "['buF9druCkbuXLX526sGELQ', 'aPLYdW4nU4ZRNpNHpkjosw']\n"
     ]
    }
   ],
   "source": [
    "int_id_list = [20126, 46484]\n",
    "old_id_list = [rid_dict[int_id] for int_id in int_id_list]\n",
    "print(old_id_list)"
   ]
  },
  {
   "cell_type": "code",
   "execution_count": 20,
   "metadata": {},
   "outputs": [
    {
     "data": {
      "text/html": [
       "<div>\n",
       "<style scoped>\n",
       "    .dataframe tbody tr th:only-of-type {\n",
       "        vertical-align: middle;\n",
       "    }\n",
       "\n",
       "    .dataframe tbody tr th {\n",
       "        vertical-align: top;\n",
       "    }\n",
       "\n",
       "    .dataframe thead th {\n",
       "        text-align: right;\n",
       "    }\n",
       "</style>\n",
       "<table border=\"1\" class=\"dataframe\">\n",
       "  <thead>\n",
       "    <tr style=\"text-align: right;\">\n",
       "      <th></th>\n",
       "      <th>business_id</th>\n",
       "      <th>name</th>\n",
       "      <th>address</th>\n",
       "      <th>city</th>\n",
       "      <th>state</th>\n",
       "      <th>postal_code</th>\n",
       "      <th>latitude</th>\n",
       "      <th>longitude</th>\n",
       "      <th>stars</th>\n",
       "      <th>review_count</th>\n",
       "      <th>is_open</th>\n",
       "      <th>attributes</th>\n",
       "      <th>categories</th>\n",
       "      <th>hours</th>\n",
       "    </tr>\n",
       "  </thead>\n",
       "  <tbody>\n",
       "    <tr>\n",
       "      <th>923</th>\n",
       "      <td>buF9druCkbuXLX526sGELQ</td>\n",
       "      <td>Prides Osteria</td>\n",
       "      <td>240 Rantoul St</td>\n",
       "      <td>Beverly</td>\n",
       "      <td>MA</td>\n",
       "      <td>01915</td>\n",
       "      <td>42.549609</td>\n",
       "      <td>-70.884046</td>\n",
       "      <td>3.5</td>\n",
       "      <td>83</td>\n",
       "      <td>0</td>\n",
       "      <td>{'OutdoorSeating': 'False', 'RestaurantsGoodFo...</td>\n",
       "      <td>Restaurants, Wine Bars, Nightlife, Farmers Mar...</td>\n",
       "      <td>{'Tuesday': '17:0-22:0', 'Wednesday': '17:0-22...</td>\n",
       "    </tr>\n",
       "    <tr>\n",
       "      <th>48732</th>\n",
       "      <td>aPLYdW4nU4ZRNpNHpkjosw</td>\n",
       "      <td>Raw Press Juice</td>\n",
       "      <td>516 Sanford Ave</td>\n",
       "      <td>Sanford</td>\n",
       "      <td>FL</td>\n",
       "      <td>32771</td>\n",
       "      <td>28.807696</td>\n",
       "      <td>-81.265055</td>\n",
       "      <td>3.5</td>\n",
       "      <td>5</td>\n",
       "      <td>1</td>\n",
       "      <td>None</td>\n",
       "      <td>Juice Bars &amp; Smoothies, Acai Bowls, Salad, Res...</td>\n",
       "      <td>{'Monday': '8:0-18:0', 'Tuesday': '8:0-18:0', ...</td>\n",
       "    </tr>\n",
       "  </tbody>\n",
       "</table>\n",
       "</div>"
      ],
      "text/plain": [
       "                  business_id             name          address     city  \\\n",
       "923    buF9druCkbuXLX526sGELQ   Prides Osteria   240 Rantoul St  Beverly   \n",
       "48732  aPLYdW4nU4ZRNpNHpkjosw  Raw Press Juice  516 Sanford Ave  Sanford   \n",
       "\n",
       "      state postal_code   latitude  longitude  stars  review_count  is_open  \\\n",
       "923      MA       01915  42.549609 -70.884046    3.5            83        0   \n",
       "48732    FL       32771  28.807696 -81.265055    3.5             5        1   \n",
       "\n",
       "                                              attributes  \\\n",
       "923    {'OutdoorSeating': 'False', 'RestaurantsGoodFo...   \n",
       "48732                                               None   \n",
       "\n",
       "                                              categories  \\\n",
       "923    Restaurants, Wine Bars, Nightlife, Farmers Mar...   \n",
       "48732  Juice Bars & Smoothies, Acai Bowls, Salad, Res...   \n",
       "\n",
       "                                                   hours  \n",
       "923    {'Tuesday': '17:0-22:0', 'Wednesday': '17:0-22...  \n",
       "48732  {'Monday': '8:0-18:0', 'Tuesday': '8:0-18:0', ...  "
      ]
     },
     "execution_count": 20,
     "metadata": {},
     "output_type": "execute_result"
    }
   ],
   "source": [
    "business_info_df.query(\"business_id in {}\".format(old_id_list))"
   ]
  },
  {
   "cell_type": "code",
   "execution_count": null,
   "metadata": {},
   "outputs": [],
   "source": []
  }
 ],
 "metadata": {
  "kernelspec": {
   "display_name": "Python 3 (ipykernel)",
   "language": "python",
   "name": "python3"
  },
  "language_info": {
   "codemirror_mode": {
    "name": "ipython",
    "version": 3
   },
   "file_extension": ".py",
   "mimetype": "text/x-python",
   "name": "python",
   "nbconvert_exporter": "python",
   "pygments_lexer": "ipython3",
   "version": "3.9.7"
  }
 },
 "nbformat": 4,
 "nbformat_minor": 4
}
