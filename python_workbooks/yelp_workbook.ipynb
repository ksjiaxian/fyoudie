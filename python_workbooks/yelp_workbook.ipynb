{
 "cells": [
  {
   "cell_type": "code",
   "execution_count": 54,
   "metadata": {
    "colab": {
     "base_uri": "https://localhost:8080/"
    },
    "id": "328BMjEOy5vT",
    "outputId": "0308d180-66bd-4947-8228-dae8b561e013",
    "scrolled": true
   },
   "outputs": [
    {
     "name": "stdout",
     "output_type": "stream",
     "text": [
      "Requirement already satisfied: yelp in /Library/Frameworks/Python.framework/Versions/3.9/lib/python3.9/site-packages (1.0.2)\n",
      "Requirement already satisfied: httplib2 in /Library/Frameworks/Python.framework/Versions/3.9/lib/python3.9/site-packages (from yelp) (0.20.2)\n",
      "Requirement already satisfied: oauth2 in /Library/Frameworks/Python.framework/Versions/3.9/lib/python3.9/site-packages (from yelp) (1.9.0.post1)\n",
      "Requirement already satisfied: six in /Library/Frameworks/Python.framework/Versions/3.9/lib/python3.9/site-packages (from yelp) (1.16.0)\n",
      "Requirement already satisfied: pyparsing!=3.0.0,!=3.0.1,!=3.0.2,!=3.0.3,<4,>=2.4.2 in /Library/Frameworks/Python.framework/Versions/3.9/lib/python3.9/site-packages (from httplib2->yelp) (3.0.6)\n",
      "Note: you may need to restart the kernel to use updated packages.\n"
     ]
    }
   ],
   "source": [
    "pip install yelp"
   ]
  },
  {
   "cell_type": "code",
   "execution_count": 55,
   "metadata": {
    "id": "F1yPpexe0zFc"
   },
   "outputs": [],
   "source": [
    "import requests\n",
    "import yelp"
   ]
  },
  {
   "cell_type": "code",
   "execution_count": 56,
   "metadata": {
    "id": "U2VRdzlszV48"
   },
   "outputs": [],
   "source": [
    "api_key = 'Tx41vDWwPpWAkBIflYM-dI1O6MTvV_yjBsHqE9pt5Ea7HJ6zf1Ow9FXcRhAuW3hFQzXt4phRRCKnV13WFeUCc8tildyesi-OcS_anG5JkG6TkGZUlqDm7xNw8zqtYXYx'"
   ]
  },
  {
   "cell_type": "code",
   "execution_count": 69,
   "metadata": {
    "id": "6c9drdgBy-Vn"
   },
   "outputs": [],
   "source": [
    "headers = {'Authorization': 'Bearer {}'.format(api_key)}\n",
    "search_api_url = 'https://api.yelp.com/v3/businesses/search'\n",
    "params = {'term': 'restaurant', \n",
    "          'location': 'Arlington, Virginia',\n",
    "          'limit': 50}"
   ]
  },
  {
   "cell_type": "code",
   "execution_count": 70,
   "metadata": {
    "id": "9Hd2X_8Mzr6E"
   },
   "outputs": [],
   "source": [
    "response = requests.get(search_api_url, headers=headers, params=params, timeout=5)"
   ]
  },
  {
   "cell_type": "code",
   "execution_count": 71,
   "metadata": {
    "colab": {
     "base_uri": "https://localhost:8080/"
    },
    "id": "TtNCBHRtz3di",
    "outputId": "70d002a3-81fa-44d3-ffee-6e6e50045f1e"
   },
   "outputs": [
    {
     "name": "stdout",
     "output_type": "stream",
     "text": [
      "https://api.yelp.com/v3/businesses/search?term=restaurant&location=Arlington%2C+Virginia&limit=50\n",
      "200\n"
     ]
    }
   ],
   "source": [
    "print(response.url)\n",
    "print(response.status_code)"
   ]
  },
  {
   "cell_type": "code",
   "execution_count": 72,
   "metadata": {
    "id": "eyW1NpkQz7Ye"
   },
   "outputs": [],
   "source": [
    "data_dict = response.json()"
   ]
  },
  {
   "cell_type": "code",
   "execution_count": 73,
   "metadata": {
    "colab": {
     "base_uri": "https://localhost:8080/"
    },
    "id": "0PXipuuZ0ijy",
    "outputId": "282c467c-7b3d-4382-b92b-1cc110c9ddd8"
   },
   "outputs": [
    {
     "data": {
      "text/plain": [
       "{'id': 'Ej_S0TYGWOGi9LPdDz7DKA',\n",
       " 'alias': 'ambar-arlington-4',\n",
       " 'name': 'Ambar',\n",
       " 'image_url': 'https://s3-media2.fl.yelpcdn.com/bphoto/9q76yOGu5Dokz_VJCFJ2Ww/o.jpg',\n",
       " 'is_closed': False,\n",
       " 'url': 'https://www.yelp.com/biz/ambar-arlington-4?adjust_creative=A1JFLK_FgHHvvvGvh7sqVQ&utm_campaign=yelp_api_v3&utm_medium=api_v3_business_search&utm_source=A1JFLK_FgHHvvvGvh7sqVQ',\n",
       " 'review_count': 1487,\n",
       " 'categories': [{'alias': 'modern_european', 'title': 'Modern European'}],\n",
       " 'rating': 4.5,\n",
       " 'coordinates': {'latitude': 38.88874, 'longitude': -77.09345},\n",
       " 'transactions': ['delivery', 'pickup'],\n",
       " 'price': '$$$',\n",
       " 'location': {'address1': '2901 Wilson Blvd',\n",
       "  'address2': '',\n",
       "  'address3': None,\n",
       "  'city': 'Arlington',\n",
       "  'zip_code': '22201',\n",
       "  'country': 'US',\n",
       "  'state': 'VA',\n",
       "  'display_address': ['2901 Wilson Blvd', 'Arlington, VA 22201']},\n",
       " 'phone': '+17038759663',\n",
       " 'display_phone': '(703) 875-9663',\n",
       " 'distance': 1451.7496215255244}"
      ]
     },
     "execution_count": 73,
     "metadata": {},
     "output_type": "execute_result"
    }
   ],
   "source": [
    "data_dict['businesses'][0]"
   ]
  },
  {
   "cell_type": "code",
   "execution_count": 76,
   "metadata": {},
   "outputs": [
    {
     "name": "stdout",
     "output_type": "stream",
     "text": [
      "https://api.yelp.com/v3/businesses/CnuJ9rh9xvKJ3EaCo1xIOw\n",
      "200\n",
      "{'id': 'CnuJ9rh9xvKJ3EaCo1xIOw', 'alias': 'domu-orlando', 'name': 'Domu', 'image_url': 'https://s3-media1.fl.yelpcdn.com/bphoto/wG-k9StsIScs1HwoNeEthw/o.jpg', 'is_claimed': True, 'is_closed': False, 'url': 'https://www.yelp.com/biz/domu-orlando?adjust_creative=A1JFLK_FgHHvvvGvh7sqVQ&utm_campaign=yelp_api_v3&utm_medium=api_v3_business_lookup&utm_source=A1JFLK_FgHHvvvGvh7sqVQ', 'phone': '+14079601228', 'display_phone': '(407) 960-1228', 'review_count': 1268, 'categories': [{'alias': 'ramen', 'title': 'Ramen'}, {'alias': 'asianfusion', 'title': 'Asian Fusion'}, {'alias': 'cocktailbars', 'title': 'Cocktail Bars'}], 'rating': 4.0, 'location': {'address1': '3201 Corrine Dr', 'address2': 'Ste 100', 'address3': None, 'city': 'Orlando', 'zip_code': '32803', 'country': 'US', 'state': 'FL', 'display_address': ['3201 Corrine Dr', 'Ste 100', 'Orlando, FL 32803'], 'cross_streets': ''}, 'coordinates': {'latitude': 28.568385337319, 'longitude': -81.3434771820903}, 'photos': ['https://s3-media1.fl.yelpcdn.com/bphoto/wG-k9StsIScs1HwoNeEthw/o.jpg', 'https://s3-media2.fl.yelpcdn.com/bphoto/k7fYU56KIKo7JF5XymzL6g/o.jpg', 'https://s3-media2.fl.yelpcdn.com/bphoto/eoTDdvwvwwt2-Rq2Cs3TTQ/o.jpg'], 'price': '$$', 'hours': [{'open': [{'is_overnight': False, 'start': '1700', 'end': '2200', 'day': 0}, {'is_overnight': False, 'start': '1700', 'end': '2200', 'day': 1}, {'is_overnight': False, 'start': '1700', 'end': '2200', 'day': 2}, {'is_overnight': False, 'start': '1700', 'end': '2200', 'day': 3}, {'is_overnight': False, 'start': '1700', 'end': '2300', 'day': 4}, {'is_overnight': False, 'start': '1100', 'end': '1430', 'day': 5}, {'is_overnight': False, 'start': '1700', 'end': '2300', 'day': 5}, {'is_overnight': False, 'start': '1100', 'end': '1430', 'day': 6}, {'is_overnight': False, 'start': '1700', 'end': '2200', 'day': 6}], 'hours_type': 'REGULAR', 'is_open_now': True}], 'transactions': [], 'special_hours': [{'date': '2021-12-13', 'is_closed': None, 'start': '1700', 'end': '2000', 'is_overnight': False}, {'date': '2021-12-24', 'is_closed': True, 'start': None, 'end': None, 'is_overnight': None}, {'date': '2021-12-25', 'is_closed': True, 'start': None, 'end': None, 'is_overnight': None}, {'date': '2021-12-25', 'is_closed': True, 'start': None, 'end': None, 'is_overnight': None}, {'date': '2021-12-26', 'is_closed': True, 'start': None, 'end': None, 'is_overnight': None}, {'date': '2021-12-31', 'is_closed': None, 'start': '1700', 'end': '2200', 'is_overnight': False}]}\n"
     ]
    }
   ],
   "source": [
    "headers = {'Authorization': 'Bearer {}'.format(api_key)}\n",
    "search_api_url = 'https://api.yelp.com/v3/businesses/CnuJ9rh9xvKJ3EaCo1xIOw'\n",
    "params = {'id': 'WavvLdfdP6g8aZTtbBQHTw'}\n",
    "\n",
    "response = requests.get(search_api_url, headers=headers, timeout=5)\n",
    "\n",
    "print(response.url)\n",
    "print(response.status_code)\n",
    "\n",
    "data_dict = response.json()\n",
    "print(data_dict)\n",
    "\n",
    "# data_dict['businesses'][0]"
   ]
  }
 ],
 "metadata": {
  "colab": {
   "collapsed_sections": [],
   "name": "yelp_workbook.ipynb",
   "provenance": []
  },
  "kernelspec": {
   "display_name": "Python 3 (ipykernel)",
   "language": "python",
   "name": "python3"
  },
  "language_info": {
   "codemirror_mode": {
    "name": "ipython",
    "version": 3
   },
   "file_extension": ".py",
   "mimetype": "text/x-python",
   "name": "python",
   "nbconvert_exporter": "python",
   "pygments_lexer": "ipython3",
   "version": "3.9.1"
  }
 },
 "nbformat": 4,
 "nbformat_minor": 1
}
